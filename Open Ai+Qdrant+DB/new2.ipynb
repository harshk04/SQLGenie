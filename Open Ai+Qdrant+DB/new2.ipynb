{
 "cells": [
  {
   "cell_type": "code",
   "execution_count": 1,
   "metadata": {},
   "outputs": [
    {
     "name": "stdout",
     "output_type": "stream",
     "text": [
      "Requirement already satisfied: vanna[openai,postgres,qdrant] in ./vennv1/lib/python3.10/site-packages (0.6.0)\n",
      "Requirement already satisfied: requests in ./vennv1/lib/python3.10/site-packages (from vanna[openai,postgres,qdrant]) (2.32.3)\n",
      "Requirement already satisfied: tabulate in ./vennv1/lib/python3.10/site-packages (from vanna[openai,postgres,qdrant]) (0.9.0)\n",
      "Requirement already satisfied: plotly in ./vennv1/lib/python3.10/site-packages (from vanna[openai,postgres,qdrant]) (5.22.0)\n",
      "Requirement already satisfied: pandas in ./vennv1/lib/python3.10/site-packages (from vanna[openai,postgres,qdrant]) (2.2.2)\n",
      "Requirement already satisfied: sqlparse in ./vennv1/lib/python3.10/site-packages (from vanna[openai,postgres,qdrant]) (0.5.0)\n",
      "Requirement already satisfied: kaleido in ./vennv1/lib/python3.10/site-packages (from vanna[openai,postgres,qdrant]) (0.2.1)\n",
      "Requirement already satisfied: flask in ./vennv1/lib/python3.10/site-packages (from vanna[openai,postgres,qdrant]) (3.0.3)\n",
      "Requirement already satisfied: flask-sock in ./vennv1/lib/python3.10/site-packages (from vanna[openai,postgres,qdrant]) (0.7.0)\n",
      "Requirement already satisfied: sqlalchemy in ./vennv1/lib/python3.10/site-packages (from vanna[openai,postgres,qdrant]) (2.0.30)\n",
      "Requirement already satisfied: qdrant-client in ./vennv1/lib/python3.10/site-packages (from vanna[openai,postgres,qdrant]) (1.9.1)\n",
      "Requirement already satisfied: fastembed in ./vennv1/lib/python3.10/site-packages (from vanna[openai,postgres,qdrant]) (0.3.0)\n",
      "Requirement already satisfied: psycopg2-binary in ./vennv1/lib/python3.10/site-packages (from vanna[openai,postgres,qdrant]) (2.9.9)\n",
      "Requirement already satisfied: db-dtypes in ./vennv1/lib/python3.10/site-packages (from vanna[openai,postgres,qdrant]) (1.2.0)\n",
      "Requirement already satisfied: openai in ./vennv1/lib/python3.10/site-packages (from vanna[openai,postgres,qdrant]) (1.32.0)\n",
      "Requirement already satisfied: packaging>=17.0 in ./vennv1/lib/python3.10/site-packages (from db-dtypes->vanna[openai,postgres,qdrant]) (23.2)\n",
      "Requirement already satisfied: pyarrow>=3.0.0 in ./vennv1/lib/python3.10/site-packages (from db-dtypes->vanna[openai,postgres,qdrant]) (16.1.0)\n",
      "Requirement already satisfied: numpy>=1.16.6 in ./vennv1/lib/python3.10/site-packages (from db-dtypes->vanna[openai,postgres,qdrant]) (1.26.4)\n",
      "Requirement already satisfied: python-dateutil>=2.8.2 in ./vennv1/lib/python3.10/site-packages (from pandas->vanna[openai,postgres,qdrant]) (2.9.0)\n",
      "Requirement already satisfied: pytz>=2020.1 in ./vennv1/lib/python3.10/site-packages (from pandas->vanna[openai,postgres,qdrant]) (2024.1)\n",
      "Requirement already satisfied: tzdata>=2022.7 in ./vennv1/lib/python3.10/site-packages (from pandas->vanna[openai,postgres,qdrant]) (2024.1)\n",
      "Requirement already satisfied: PyStemmer<3.0.0,>=2.2.0 in ./vennv1/lib/python3.10/site-packages (from fastembed->vanna[openai,postgres,qdrant]) (2.2.0.1)\n",
      "Requirement already satisfied: huggingface-hub<1.0,>=0.20 in ./vennv1/lib/python3.10/site-packages (from fastembed->vanna[openai,postgres,qdrant]) (0.23.3)\n",
      "Requirement already satisfied: loguru<0.8.0,>=0.7.2 in ./vennv1/lib/python3.10/site-packages (from fastembed->vanna[openai,postgres,qdrant]) (0.7.2)\n",
      "Requirement already satisfied: mmh3<5.0,>=4.0 in ./vennv1/lib/python3.10/site-packages (from fastembed->vanna[openai,postgres,qdrant]) (4.1.0)\n",
      "Requirement already satisfied: onnx<2.0.0,>=1.15.0 in ./vennv1/lib/python3.10/site-packages (from fastembed->vanna[openai,postgres,qdrant]) (1.16.1)\n",
      "Requirement already satisfied: onnxruntime<2.0.0,>=1.17.0 in ./vennv1/lib/python3.10/site-packages (from fastembed->vanna[openai,postgres,qdrant]) (1.18.0)\n",
      "Requirement already satisfied: pillow<11.0.0,>=10.3.0 in ./vennv1/lib/python3.10/site-packages (from fastembed->vanna[openai,postgres,qdrant]) (10.3.0)\n",
      "Requirement already satisfied: snowballstemmer<3.0.0,>=2.2.0 in ./vennv1/lib/python3.10/site-packages (from fastembed->vanna[openai,postgres,qdrant]) (2.2.0)\n",
      "Requirement already satisfied: tokenizers<1.0,>=0.15 in ./vennv1/lib/python3.10/site-packages (from fastembed->vanna[openai,postgres,qdrant]) (0.19.1)\n",
      "Requirement already satisfied: tqdm<5.0,>=4.66 in ./vennv1/lib/python3.10/site-packages (from fastembed->vanna[openai,postgres,qdrant]) (4.66.4)\n",
      "Requirement already satisfied: charset-normalizer<4,>=2 in ./vennv1/lib/python3.10/site-packages (from requests->vanna[openai,postgres,qdrant]) (3.3.2)\n",
      "Requirement already satisfied: idna<4,>=2.5 in ./vennv1/lib/python3.10/site-packages (from requests->vanna[openai,postgres,qdrant]) (3.7)\n",
      "Requirement already satisfied: urllib3<3,>=1.21.1 in ./vennv1/lib/python3.10/site-packages (from requests->vanna[openai,postgres,qdrant]) (2.2.1)\n",
      "Requirement already satisfied: certifi>=2017.4.17 in ./vennv1/lib/python3.10/site-packages (from requests->vanna[openai,postgres,qdrant]) (2024.6.2)\n",
      "Requirement already satisfied: Werkzeug>=3.0.0 in ./vennv1/lib/python3.10/site-packages (from flask->vanna[openai,postgres,qdrant]) (3.0.3)\n",
      "Requirement already satisfied: Jinja2>=3.1.2 in ./vennv1/lib/python3.10/site-packages (from flask->vanna[openai,postgres,qdrant]) (3.1.4)\n",
      "Requirement already satisfied: itsdangerous>=2.1.2 in ./vennv1/lib/python3.10/site-packages (from flask->vanna[openai,postgres,qdrant]) (2.2.0)\n",
      "Requirement already satisfied: click>=8.1.3 in ./vennv1/lib/python3.10/site-packages (from flask->vanna[openai,postgres,qdrant]) (8.1.7)\n",
      "Requirement already satisfied: blinker>=1.6.2 in ./vennv1/lib/python3.10/site-packages (from flask->vanna[openai,postgres,qdrant]) (1.8.2)\n",
      "Requirement already satisfied: simple-websocket>=0.5.1 in ./vennv1/lib/python3.10/site-packages (from flask-sock->vanna[openai,postgres,qdrant]) (1.0.0)\n",
      "Requirement already satisfied: anyio<5,>=3.5.0 in ./vennv1/lib/python3.10/site-packages (from openai->vanna[openai,postgres,qdrant]) (4.4.0)\n",
      "Requirement already satisfied: distro<2,>=1.7.0 in ./vennv1/lib/python3.10/site-packages (from openai->vanna[openai,postgres,qdrant]) (1.9.0)\n",
      "Requirement already satisfied: httpx<1,>=0.23.0 in ./vennv1/lib/python3.10/site-packages (from openai->vanna[openai,postgres,qdrant]) (0.27.0)\n",
      "Requirement already satisfied: pydantic<3,>=1.9.0 in ./vennv1/lib/python3.10/site-packages (from openai->vanna[openai,postgres,qdrant]) (2.7.3)\n",
      "Requirement already satisfied: sniffio in ./vennv1/lib/python3.10/site-packages (from openai->vanna[openai,postgres,qdrant]) (1.3.1)\n",
      "Requirement already satisfied: typing-extensions<5,>=4.7 in ./vennv1/lib/python3.10/site-packages (from openai->vanna[openai,postgres,qdrant]) (4.12.1)\n",
      "Requirement already satisfied: tenacity>=6.2.0 in ./vennv1/lib/python3.10/site-packages (from plotly->vanna[openai,postgres,qdrant]) (8.3.0)\n",
      "Requirement already satisfied: grpcio>=1.41.0 in ./vennv1/lib/python3.10/site-packages (from qdrant-client->vanna[openai,postgres,qdrant]) (1.64.1)\n",
      "Requirement already satisfied: grpcio-tools>=1.41.0 in ./vennv1/lib/python3.10/site-packages (from qdrant-client->vanna[openai,postgres,qdrant]) (1.64.1)\n",
      "Requirement already satisfied: portalocker<3.0.0,>=2.7.0 in ./vennv1/lib/python3.10/site-packages (from qdrant-client->vanna[openai,postgres,qdrant]) (2.8.2)\n",
      "Requirement already satisfied: exceptiongroup>=1.0.2 in ./vennv1/lib/python3.10/site-packages (from anyio<5,>=3.5.0->openai->vanna[openai,postgres,qdrant]) (1.2.0)\n",
      "Requirement already satisfied: protobuf<6.0dev,>=5.26.1 in ./vennv1/lib/python3.10/site-packages (from grpcio-tools>=1.41.0->qdrant-client->vanna[openai,postgres,qdrant]) (5.27.0)\n",
      "Requirement already satisfied: setuptools in ./vennv1/lib/python3.10/site-packages (from grpcio-tools>=1.41.0->qdrant-client->vanna[openai,postgres,qdrant]) (69.5.1)\n",
      "Requirement already satisfied: httpcore==1.* in ./vennv1/lib/python3.10/site-packages (from httpx<1,>=0.23.0->openai->vanna[openai,postgres,qdrant]) (1.0.5)\n",
      "Requirement already satisfied: h11<0.15,>=0.13 in ./vennv1/lib/python3.10/site-packages (from httpcore==1.*->httpx<1,>=0.23.0->openai->vanna[openai,postgres,qdrant]) (0.14.0)\n",
      "Requirement already satisfied: h2<5,>=3 in ./vennv1/lib/python3.10/site-packages (from httpx[http2]>=0.20.0->qdrant-client->vanna[openai,postgres,qdrant]) (4.1.0)\n",
      "Requirement already satisfied: filelock in ./vennv1/lib/python3.10/site-packages (from huggingface-hub<1.0,>=0.20->fastembed->vanna[openai,postgres,qdrant]) (3.14.0)\n",
      "Requirement already satisfied: fsspec>=2023.5.0 in ./vennv1/lib/python3.10/site-packages (from huggingface-hub<1.0,>=0.20->fastembed->vanna[openai,postgres,qdrant]) (2024.6.0)\n",
      "Requirement already satisfied: pyyaml>=5.1 in ./vennv1/lib/python3.10/site-packages (from huggingface-hub<1.0,>=0.20->fastembed->vanna[openai,postgres,qdrant]) (6.0.1)\n",
      "Requirement already satisfied: MarkupSafe>=2.0 in ./vennv1/lib/python3.10/site-packages (from Jinja2>=3.1.2->flask->vanna[openai,postgres,qdrant]) (2.1.5)\n",
      "Requirement already satisfied: coloredlogs in ./vennv1/lib/python3.10/site-packages (from onnxruntime<2.0.0,>=1.17.0->fastembed->vanna[openai,postgres,qdrant]) (15.0.1)\n",
      "Requirement already satisfied: flatbuffers in ./vennv1/lib/python3.10/site-packages (from onnxruntime<2.0.0,>=1.17.0->fastembed->vanna[openai,postgres,qdrant]) (24.3.25)\n",
      "Requirement already satisfied: sympy in ./vennv1/lib/python3.10/site-packages (from onnxruntime<2.0.0,>=1.17.0->fastembed->vanna[openai,postgres,qdrant]) (1.12.1)\n",
      "Requirement already satisfied: annotated-types>=0.4.0 in ./vennv1/lib/python3.10/site-packages (from pydantic<3,>=1.9.0->openai->vanna[openai,postgres,qdrant]) (0.7.0)\n",
      "Requirement already satisfied: pydantic-core==2.18.4 in ./vennv1/lib/python3.10/site-packages (from pydantic<3,>=1.9.0->openai->vanna[openai,postgres,qdrant]) (2.18.4)\n",
      "Requirement already satisfied: six>=1.5 in ./vennv1/lib/python3.10/site-packages (from python-dateutil>=2.8.2->pandas->vanna[openai,postgres,qdrant]) (1.16.0)\n",
      "Requirement already satisfied: wsproto in ./vennv1/lib/python3.10/site-packages (from simple-websocket>=0.5.1->flask-sock->vanna[openai,postgres,qdrant]) (1.2.0)\n",
      "Requirement already satisfied: hyperframe<7,>=6.0 in ./vennv1/lib/python3.10/site-packages (from h2<5,>=3->httpx[http2]>=0.20.0->qdrant-client->vanna[openai,postgres,qdrant]) (6.0.1)\n",
      "Requirement already satisfied: hpack<5,>=4.0 in ./vennv1/lib/python3.10/site-packages (from h2<5,>=3->httpx[http2]>=0.20.0->qdrant-client->vanna[openai,postgres,qdrant]) (4.0.0)\n",
      "Requirement already satisfied: humanfriendly>=9.1 in ./vennv1/lib/python3.10/site-packages (from coloredlogs->onnxruntime<2.0.0,>=1.17.0->fastembed->vanna[openai,postgres,qdrant]) (10.0)\n",
      "Requirement already satisfied: mpmath<1.4.0,>=1.1.0 in ./vennv1/lib/python3.10/site-packages (from sympy->onnxruntime<2.0.0,>=1.17.0->fastembed->vanna[openai,postgres,qdrant]) (1.3.0)\n",
      "Note: you may need to restart the kernel to use updated packages.\n"
     ]
    }
   ],
   "source": [
    "%pip install 'vanna[qdrant,openai,postgres]'"
   ]
  },
  {
   "cell_type": "code",
   "execution_count": 11,
   "metadata": {},
   "outputs": [],
   "source": [
    "from vanna.openai import OpenAI_Chat\n",
    "from vanna.qdrant import Qdrant_VectorStore\n",
    "from qdrant_client import QdrantClient\n",
    "\n",
    "\n"
   ]
  },
  {
   "cell_type": "code",
   "execution_count": 2,
   "metadata": {},
   "outputs": [],
   "source": [
    "from qdrant_client import QdrantClient\n",
    "from openai import OpenAI\n",
    "\n",
    "class MyVanna(QdrantClient, OpenAI):\n",
    "    def __init__(self, config=None):\n",
    "        QdrantClient.__init__(self, url=config['url'])\n",
    "        OpenAI.__init__(self, api_key=config['api_key'])\n",
    "\n",
    "vn = MyVanna(config={\n",
    "    'url': 'http://localhost:6333',\n",
    "    'api_key': 'sk-proj-508rEgfw90LLKJmWhZz3T3BlbkFJ9kIsMVpBUyfIpnamjuzW',\n",
    "    'model': 'gpt-3.5-turbo',\n",
    "})"
   ]
  },
  {
   "cell_type": "code",
   "execution_count": 4,
   "metadata": {},
   "outputs": [
    {
     "ename": "AttributeError",
     "evalue": "'MyVanna' object has no attribute 'connect_to_postgres'",
     "output_type": "error",
     "traceback": [
      "\u001b[0;31m---------------------------------------------------------------------------\u001b[0m",
      "\u001b[0;31mAttributeError\u001b[0m                            Traceback (most recent call last)",
      "Cell \u001b[0;32mIn[4], line 1\u001b[0m\n\u001b[0;32m----> 1\u001b[0m \u001b[43mvn\u001b[49m\u001b[38;5;241;43m.\u001b[39;49m\u001b[43mconnect_to_postgres\u001b[49m(host\u001b[38;5;241m=\u001b[39m\u001b[38;5;124m'\u001b[39m\u001b[38;5;124mlocalhost\u001b[39m\u001b[38;5;124m'\u001b[39m, dbname\u001b[38;5;241m=\u001b[39m\u001b[38;5;124m'\u001b[39m\u001b[38;5;124mvectordb\u001b[39m\u001b[38;5;124m'\u001b[39m, user\u001b[38;5;241m=\u001b[39m\u001b[38;5;124m'\u001b[39m\u001b[38;5;124mpostgres\u001b[39m\u001b[38;5;124m'\u001b[39m, password\u001b[38;5;241m=\u001b[39m\u001b[38;5;124m'\u001b[39m\u001b[38;5;124mHarsh@2004\u001b[39m\u001b[38;5;124m'\u001b[39m, port\u001b[38;5;241m=\u001b[39m\u001b[38;5;124m'\u001b[39m\u001b[38;5;124m5432\u001b[39m\u001b[38;5;124m'\u001b[39m)\n",
      "\u001b[0;31mAttributeError\u001b[0m: 'MyVanna' object has no attribute 'connect_to_postgres'"
     ]
    }
   ],
   "source": [
    "vn.connect_to_postgres(host='localhost', dbname='vectordb', user='postgres', password='Harsh@2004', port='5432')"
   ]
  },
  {
   "cell_type": "code",
   "execution_count": 14,
   "metadata": {},
   "outputs": [
    {
     "ename": "AttributeError",
     "evalue": "'MyVanna' object has no attribute 'run_sql'",
     "output_type": "error",
     "traceback": [
      "\u001b[0;31m---------------------------------------------------------------------------\u001b[0m",
      "\u001b[0;31mAttributeError\u001b[0m                            Traceback (most recent call last)",
      "Cell \u001b[0;32mIn[14], line 2\u001b[0m\n\u001b[1;32m      1\u001b[0m \u001b[38;5;66;03m# The information schema query may need some tweaking depending on your database. This is a good starting point.\u001b[39;00m\n\u001b[0;32m----> 2\u001b[0m df_information_schema \u001b[38;5;241m=\u001b[39m \u001b[43mvn\u001b[49m\u001b[38;5;241;43m.\u001b[39;49m\u001b[43mrun_sql\u001b[49m(\u001b[38;5;124m\"\"\"\u001b[39m\n\u001b[1;32m      3\u001b[0m \u001b[38;5;124m            SELECT *\u001b[39m\n\u001b[1;32m      4\u001b[0m \u001b[38;5;124m            FROM INFORMATION_SCHEMA.COLUMNS\u001b[39m\n\u001b[1;32m      5\u001b[0m \u001b[38;5;124m            WHERE TABLE_SCHEMA = \u001b[39m\u001b[38;5;124m'\u001b[39m\u001b[38;5;124mpublic\u001b[39m\u001b[38;5;124m'\u001b[39m\u001b[38;5;124m \u001b[39m\n\u001b[1;32m      6\u001b[0m \u001b[38;5;124m        \u001b[39m\u001b[38;5;124m\"\"\"\u001b[39m)\n\u001b[1;32m      7\u001b[0m \u001b[38;5;66;03m# This will break up the information schema into bite-sized chunks that can be referenced by the LLM\u001b[39;00m\n\u001b[1;32m      8\u001b[0m plan \u001b[38;5;241m=\u001b[39m vn\u001b[38;5;241m.\u001b[39mget_training_plan_generic(df_information_schema)\n",
      "\u001b[0;31mAttributeError\u001b[0m: 'MyVanna' object has no attribute 'run_sql'"
     ]
    }
   ],
   "source": [
    "\n",
    "# The information schema query may need some tweaking depending on your database. This is a good starting point.\n",
    "df_information_schema = vn.run_sql(\"\"\"\n",
    "            SELECT *\n",
    "            FROM INFORMATION_SCHEMA.COLUMNS\n",
    "            WHERE TABLE_SCHEMA = 'public' \n",
    "        \"\"\")\n",
    "# This will break up the information schema into bite-sized chunks that can be referenced by the LLM\n",
    "plan = vn.get_training_plan_generic(df_information_schema)\n",
    "plan\n",
    "\n",
    "# If you like the plan, then uncomment this and run it to train\n",
    "# vn.train(plan=plan)\n",
    "\n"
   ]
  },
  {
   "cell_type": "code",
   "execution_count": 15,
   "metadata": {},
   "outputs": [
    {
     "ename": "AttributeError",
     "evalue": "'MyVanna' object has no attribute 'train'",
     "output_type": "error",
     "traceback": [
      "\u001b[0;31m---------------------------------------------------------------------------\u001b[0m",
      "\u001b[0;31mAttributeError\u001b[0m                            Traceback (most recent call last)",
      "Cell \u001b[0;32mIn[15], line 1\u001b[0m\n\u001b[0;32m----> 1\u001b[0m \u001b[43mvn\u001b[49m\u001b[38;5;241;43m.\u001b[39;49m\u001b[43mtrain\u001b[49m(ddl\u001b[38;5;241m=\u001b[39m\u001b[38;5;124m\"\"\"\u001b[39m\n\u001b[1;32m      2\u001b[0m \u001b[38;5;124m            CREATE TABLE applicants (\u001b[39m\n\u001b[1;32m      3\u001b[0m \u001b[38;5;124m                applicantid INT,\u001b[39m\n\u001b[1;32m      4\u001b[0m \u001b[38;5;124m                position INT,\u001b[39m\n\u001b[1;32m      5\u001b[0m \u001b[38;5;124m                application_date DATE,\u001b[39m\n\u001b[1;32m      6\u001b[0m \u001b[38;5;124m                stage VARCHAR(50),\u001b[39m\n\u001b[1;32m      7\u001b[0m \u001b[38;5;124m                status VARCHAR(50),\u001b[39m\n\u001b[1;32m      8\u001b[0m \u001b[38;5;124m                recruiter VARCHAR(50),\u001b[39m\n\u001b[1;32m      9\u001b[0m \u001b[38;5;124m                country VARCHAR(50),\u001b[39m\n\u001b[1;32m     10\u001b[0m \u001b[38;5;124m                applicant_name VARCHAR(100),\u001b[39m\n\u001b[1;32m     11\u001b[0m \u001b[38;5;124m                salary INT\u001b[39m\n\u001b[1;32m     12\u001b[0m \u001b[38;5;124m            );\u001b[39m\n\u001b[1;32m     13\u001b[0m \u001b[38;5;124m            \u001b[39m\u001b[38;5;124m\"\"\"\u001b[39m)\n",
      "\u001b[0;31mAttributeError\u001b[0m: 'MyVanna' object has no attribute 'train'"
     ]
    }
   ],
   "source": [
    "vn.train(ddl=\"\"\"\n",
    "            CREATE TABLE applicants (\n",
    "                applicantid INT,\n",
    "                position INT,\n",
    "                application_date DATE,\n",
    "                stage VARCHAR(50),\n",
    "                status VARCHAR(50),\n",
    "                recruiter VARCHAR(50),\n",
    "                country VARCHAR(50),\n",
    "                applicant_name VARCHAR(100),\n",
    "                salary INT\n",
    "            );\n",
    "            \"\"\")"
   ]
  },
  {
   "cell_type": "code",
   "execution_count": 5,
   "metadata": {},
   "outputs": [
    {
     "ename": "AttributeError",
     "evalue": "'MyVanna' object has no attribute 'train'",
     "output_type": "error",
     "traceback": [
      "\u001b[0;31m---------------------------------------------------------------------------\u001b[0m",
      "\u001b[0;31mAttributeError\u001b[0m                            Traceback (most recent call last)",
      "Cell \u001b[0;32mIn[5], line 2\u001b[0m\n\u001b[1;32m      1\u001b[0m \u001b[38;5;66;03m# Sometimes you may want to add documentation about your business terminology or definitions.\u001b[39;00m\n\u001b[0;32m----> 2\u001b[0m \u001b[43mvn\u001b[49m\u001b[38;5;241;43m.\u001b[39;49m\u001b[43mtrain\u001b[49m(documentation\u001b[38;5;241m=\u001b[39m\u001b[38;5;124m\"\u001b[39m\u001b[38;5;124mOur business defines OTIF score as the percentage of orders that are delivered on time and in full\u001b[39m\u001b[38;5;124m\"\u001b[39m)\n\u001b[1;32m      4\u001b[0m \u001b[38;5;66;03m# You can also add SQL queries to your training data. This is useful if you have some queries already laying around. You can just copy and paste those from your editor to begin generating new SQL.\u001b[39;00m\n\u001b[1;32m      5\u001b[0m vn\u001b[38;5;241m.\u001b[39mtrain(sql\u001b[38;5;241m=\u001b[39m\u001b[38;5;124m\"\u001b[39m\u001b[38;5;124mSELECT * FROM my-table WHERE name = \u001b[39m\u001b[38;5;124m'\u001b[39m\u001b[38;5;124mJohn Doe\u001b[39m\u001b[38;5;124m'\u001b[39m\u001b[38;5;124m\"\u001b[39m)\n",
      "\u001b[0;31mAttributeError\u001b[0m: 'MyVanna' object has no attribute 'train'"
     ]
    }
   ],
   "source": [
    "\n",
    "# Sometimes you may want to add documentation about your business terminology or definitions.\n",
    "vn.train(documentation=\"Our business defines OTIF score as the percentage of orders that are delivered on time and in full\")\n",
    "\n",
    "# You can also add SQL queries to your training data. This is useful if you have some queries already laying around. You can just copy and paste those from your editor to begin generating new SQL.\n",
    "vn.train(sql=\"SELECT * FROM my-table WHERE name = 'John Doe'\")\n"
   ]
  },
  {
   "cell_type": "code",
   "execution_count": null,
   "metadata": {},
   "outputs": [],
   "source": [
    "\n",
    "# Sometimes you may want to add documentation about your business terminology or definitions.\n",
    "vn.train(documentation=\"Our business defines OTIF score as the percentage of orders that are delivered on time and in full\")\n",
    "\n",
    "# You can also add SQL queries to your training data. This is useful if you have some queries already laying around. You can just copy and paste those from your editor to begin generating new SQL.\n",
    "vn.train(sql=\"SELECT * FROM my-table WHERE name = 'John Doe'\")\n"
   ]
  },
  {
   "cell_type": "code",
   "execution_count": 16,
   "metadata": {},
   "outputs": [
    {
     "ename": "AttributeError",
     "evalue": "'MyVanna' object has no attribute 'ask'",
     "output_type": "error",
     "traceback": [
      "\u001b[0;31m---------------------------------------------------------------------------\u001b[0m",
      "\u001b[0;31mAttributeError\u001b[0m                            Traceback (most recent call last)",
      "Cell \u001b[0;32mIn[16], line 1\u001b[0m\n\u001b[0;32m----> 1\u001b[0m \u001b[43mvn\u001b[49m\u001b[38;5;241;43m.\u001b[39;49m\u001b[43mask\u001b[49m(question\u001b[38;5;241m=\u001b[39m\u001b[38;5;124m'\u001b[39m\u001b[38;5;124mList 10 applicants\u001b[39m\u001b[38;5;124m'\u001b[39m)\n",
      "\u001b[0;31mAttributeError\u001b[0m: 'MyVanna' object has no attribute 'ask'"
     ]
    }
   ],
   "source": [
    "vn.ask(question='List 10 applicants')"
   ]
  },
  {
   "cell_type": "code",
   "execution_count": null,
   "metadata": {},
   "outputs": [],
   "source": []
  },
  {
   "cell_type": "code",
   "execution_count": null,
   "metadata": {},
   "outputs": [],
   "source": []
  },
  {
   "cell_type": "code",
   "execution_count": null,
   "metadata": {},
   "outputs": [],
   "source": []
  },
  {
   "cell_type": "code",
   "execution_count": null,
   "metadata": {},
   "outputs": [],
   "source": []
  },
  {
   "cell_type": "code",
   "execution_count": null,
   "metadata": {},
   "outputs": [],
   "source": []
  }
 ],
 "metadata": {
  "kernelspec": {
   "display_name": "Python 3",
   "language": "python",
   "name": "python3"
  },
  "language_info": {
   "codemirror_mode": {
    "name": "ipython",
    "version": 3
   },
   "file_extension": ".py",
   "mimetype": "text/x-python",
   "name": "python",
   "nbconvert_exporter": "python",
   "pygments_lexer": "ipython3",
   "version": "3.10.0"
  }
 },
 "nbformat": 4,
 "nbformat_minor": 2
}
